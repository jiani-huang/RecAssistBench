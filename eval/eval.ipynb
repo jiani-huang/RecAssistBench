{
 "cells": [
  {
   "cell_type": "code",
   "execution_count": 1,
   "metadata": {},
   "outputs": [
    {
     "name": "stdout",
     "output_type": "stream",
     "text": [
      "movie-ExplicitQuery_DeepSeek-R1-historyFalse-OpenaiBatchFile-0_output.jsonl\n"
     ]
    },
    {
     "name": "stderr",
     "output_type": "stream",
     "text": [
      "INFO:root:Successfully connected to the Neo4j database.\n",
      "Evaluating predictions:   0%|          | 5/4997 [00:02<33:13,  2.50it/s]/opt/anaconda3/lib/python3.11/site-packages/neo4j/_sync/work/result.py:620: UserWarning: Expected a result with a single record, but found multiple.\n",
      "  warn(\n",
      "Evaluating predictions: 100%|██████████| 4997/4997 [07:15<00:00, 11.46it/s]\n",
      "INFO:root: Condition Num: 1.6583950370222134\n",
      "INFO:root: Ftr: 0.0008004802881729037\n",
      "INFO:root: Recall: 0.4467789161981536\n",
      "INFO:root: Precision: 0.22397526384531555\n",
      "INFO:root: Ndcg: 0.398813876336509\n",
      "INFO:root: Satisfied Ratio: 0.6508981436837104\n",
      "INFO:root: Existence In Kg Ratio: 0.7095418224031577\n"
     ]
    },
    {
     "name": "stdout",
     "output_type": "stream",
     "text": [
      "---------------------------------------------\n"
     ]
    }
   ],
   "source": [
    "database = 'wikimovie'\n",
    "query_type = 'condition'\n",
    "groundtruths = \"dataset/movie/MisinformedQuery.json\"\n",
    "\n",
    "eval_type = 'movie-MisinformedQuery'\n",
    "\n",
    "import os\n",
    "for root, dirs, files in os.walk(\"llm_results\"):\n",
    "    for file in files:\n",
    "        if eval_type in file and ('output' in file or \"prediction\" in file) and \"historyTrue\" not in file:\n",
    "            print(file)\n",
    "            predictions = os.path.join(root, file)\n",
    "            scrit_name = f'eval_movie.py --database {database} --query_type {query_type} --groundtruths {groundtruths} --predictions {predictions}'\n",
    "            get_ipython().run_line_magic('run', scrit_name)\n",
    "            print('---------------------------------------------')\n"
   ]
  },
  {
   "cell_type": "code",
   "execution_count": null,
   "metadata": {},
   "outputs": [],
   "source": []
  }
 ],
 "metadata": {
  "kernelspec": {
   "display_name": "base",
   "language": "python",
   "name": "python3"
  },
  "language_info": {
   "codemirror_mode": {
    "name": "ipython",
    "version": 3
   },
   "file_extension": ".py",
   "mimetype": "text/x-python",
   "name": "python",
   "nbconvert_exporter": "python",
   "pygments_lexer": "ipython3",
   "version": "3.11.7"
  }
 },
 "nbformat": 4,
 "nbformat_minor": 2
}
